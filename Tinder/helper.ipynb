{
 "cells": [
  {
   "cell_type": "code",
   "execution_count": null,
   "metadata": {},
   "outputs": [],
   "source": [
    "#!pip install PyAutoGUI"
   ]
  },
  {
   "cell_type": "code",
   "execution_count": 1,
   "metadata": {},
   "outputs": [
    {
     "name": "stdout",
     "output_type": "stream",
     "text": [
      "loading model\n",
      "WARNING:tensorflow:Error in loading the saved optimizer state. As a result, your model is starting with a freshly initialized optimizer.\n",
      "model_loaded\n"
     ]
    }
   ],
   "source": [
    "import pyautogui\n",
    "import time\n",
    "import numpy as np\n",
    "import tensorflow as tf\n",
    "print(\"loading model\")\n",
    "model=tf.keras.models.load_model('model_.h5')\n",
    "print('model_loaded')"
   ]
  },
  {
   "cell_type": "code",
   "execution_count": 2,
   "metadata": {},
   "outputs": [],
   "source": [
    "import cv2"
   ]
  },
  {
   "cell_type": "code",
   "execution_count": 3,
   "metadata": {},
   "outputs": [],
   "source": [
    "# dislike_path='buttons/dislike_3.jpg'\n",
    "# like_path='buttons/like_4.jpg'\n",
    "# t_path=\"buttons/t_3.jpg\""
   ]
  },
  {
   "cell_type": "code",
   "execution_count": 4,
   "metadata": {},
   "outputs": [],
   "source": [
    "# img = cv2.imread(t_path)\n",
    "# print(img)\n",
    "# cv2.imshow('like',img)\n",
    "# cv2.waitKey(0)\n",
    "# cv2.destroyAllWindows()"
   ]
  },
  {
   "cell_type": "code",
   "execution_count": 5,
   "metadata": {},
   "outputs": [],
   "source": [
    "def is_tinder_open():\n",
    "    if pyautogui.locateOnScreen(\"buttons/t_3.jpg\",confidence=0.5):\n",
    "        print(\"tinder_open\")\n",
    "        return True\n",
    "    else:\n",
    "        False"
   ]
  },
  {
   "cell_type": "code",
   "execution_count": 6,
   "metadata": {},
   "outputs": [],
   "source": [
    "def press_like():\n",
    "    #img = cv2.imread(like_path)\n",
    "    if pyautogui.locateOnScreen(\"buttons/like_4.jpg\",confidence=0.5):\n",
    "        time.sleep(2)\n",
    "        print(\"Like\")\n",
    "        print(pyautogui.locateOnScreen(\"buttons/like_4.jpg\",confidence=0.5))\n",
    "        pyautogui.click(pyautogui.locateOnScreen(\"buttons/like_4.jpg\",confidence=0.5))\n",
    "    "
   ]
  },
  {
   "cell_type": "code",
   "execution_count": 7,
   "metadata": {},
   "outputs": [],
   "source": [
    "def press_dislike():\n",
    "#     img = cv2.imread(dislike_path)\n",
    "    if pyautogui.locateOnScreen(\"buttons/dislike_3.jpg\",confidence=0.5):\n",
    "        time.sleep(2)\n",
    "        print(\"DisLike\")\n",
    "        print(pyautogui.locateOnScreen(\"buttons/dislike_3.jpg\",confidence=0.5))\n",
    "        pyautogui.click(pyautogui.locateOnScreen(\"buttons/dislike_3.jpg\",confidence=0.5))\n",
    "    "
   ]
  },
  {
   "cell_type": "code",
   "execution_count": 8,
   "metadata": {},
   "outputs": [],
   "source": [
    "def pred(img):\n",
    "    print(model.predict(img.reshape(1,224,224,3)).astype(np.float))\n",
    "    return model.predict(img.reshape(1,224,224,3)).astype(np.float)"
   ]
  },
  {
   "cell_type": "code",
   "execution_count": null,
   "metadata": {},
   "outputs": [],
   "source": []
  }
 ],
 "metadata": {
  "kernelspec": {
   "display_name": "Python 3",
   "language": "python",
   "name": "python3"
  },
  "language_info": {
   "codemirror_mode": {
    "name": "ipython",
    "version": 3
   },
   "file_extension": ".py",
   "mimetype": "text/x-python",
   "name": "python",
   "nbconvert_exporter": "python",
   "pygments_lexer": "ipython3",
   "version": "3.8.3"
  }
 },
 "nbformat": 4,
 "nbformat_minor": 4
}